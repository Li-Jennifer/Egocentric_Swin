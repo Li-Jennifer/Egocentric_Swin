{
 "cells": [
  {
   "cell_type": "code",
   "execution_count": null,
   "id": "2fe45f11-e6d3-4fdd-b5f6-86e73bb9e287",
   "metadata": {},
   "outputs": [],
   "source": [
    "%%writefile ./configs/recognition/tsn/tsn_fpha.py\n",
    "\n",
    "\n"
   ]
  }
 ],
 "metadata": {
  "kernelspec": {
   "display_name": "Python 3 (ipykernel)",
   "language": "python",
   "name": "python3"
  },
  "language_info": {
   "codemirror_mode": {
    "name": "ipython",
    "version": 3
   },
   "file_extension": ".py",
   "mimetype": "text/x-python",
   "name": "python",
   "nbconvert_exporter": "python",
   "pygments_lexer": "ipython3",
   "version": "3.8.10"
  }
 },
 "nbformat": 4,
 "nbformat_minor": 5
}
